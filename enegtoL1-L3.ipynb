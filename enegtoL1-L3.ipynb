{
  "nbformat": 4,
  "nbformat_minor": 0,
  "metadata": {
    "colab": {
      "provenance": [],
      "authorship_tag": "ABX9TyOPjwzkdR31CkKPxSPAQpLJ",
      "include_colab_link": true
    },
    "kernelspec": {
      "name": "python3",
      "display_name": "Python 3"
    },
    "language_info": {
      "name": "python"
    }
  },
  "cells": [
    {
      "cell_type": "markdown",
      "metadata": {
        "id": "view-in-github",
        "colab_type": "text"
      },
      "source": [
        "<a href=\"https://colab.research.google.com/github/dejnah/Engeto_Python_L1/blob/main/enegtoL1-L3.ipynb\" target=\"_parent\"><img src=\"https://colab.research.google.com/assets/colab-badge.svg\" alt=\"Open In Colab\"/></a>"
      ]
    },
    {
      "cell_type": "markdown",
      "source": [],
      "metadata": {
        "id": "rgIULjVwfFy9"
      }
    },
    {
      "cell_type": "code",
      "source": [
        "prvni_seznam = []\n",
        "druhy_seznam = list()\n",
        "\n",
        "print(type(prvni_seznam))\n",
        "print(type(druhy_seznam))"
      ],
      "metadata": {
        "colab": {
          "base_uri": "https://localhost:8080/"
        },
        "id": "JLEL-xWPf99x",
        "outputId": "f1543c9a-1c87-45ba-e78e-b16980c003fd"
      },
      "execution_count": null,
      "outputs": [
        {
          "output_type": "stream",
          "name": "stdout",
          "text": [
            "<class 'list'>\n",
            "<class 'list'>\n"
          ]
        }
      ]
    },
    {
      "cell_type": "markdown",
      "source": [
        "Tohle je prostý text"
      ],
      "metadata": {
        "id": "lws64cpRhE8d"
      }
    },
    {
      "cell_type": "code",
      "source": [
        "#komentář\n",
        "tuple1 = ()\n",
        "tuple2 = 1, 2, 3, 4\n",
        "\n",
        "print(type(tuple1))\n",
        "print(type(tuple2))\n",
        "\n",
        "print(tuple2[0])"
      ],
      "metadata": {
        "colab": {
          "base_uri": "https://localhost:8080/"
        },
        "id": "XFI3n9h3hFSQ",
        "outputId": "e11f571d-db74-48d9-f484-97ec8e334d98"
      },
      "execution_count": null,
      "outputs": [
        {
          "output_type": "stream",
          "name": "stdout",
          "text": [
            "<class 'tuple'>\n",
            "<class 'tuple'>\n",
            "1\n"
          ]
        }
      ]
    },
    {
      "cell_type": "code",
      "source": [
        "print(\"indexování\"[:5])\n",
        "print(\"indexování\"[-5:])\n",
        "print(\"indexování\"[::3])\n",
        "\n",
        "slovo = \"indexování\"\n",
        "\n",
        "print(\"Prvních 5 písmen: \", slovo[:5])\n",
        "print(slovo[:5])\n",
        "print(\"Posledních 5 písmen: \", slovo[-5:])\n",
        "print(slovo[-5:])\n",
        "print(\"Každé 3. písmeno (počínaje prvním) od 'i': \",slovo[::3])\n",
        "print()"
      ],
      "metadata": {
        "colab": {
          "base_uri": "https://localhost:8080/"
        },
        "id": "J0CNs376kqiV",
        "outputId": "cfde6134-3bab-4bfc-ba77-d5200172d046"
      },
      "execution_count": 25,
      "outputs": [
        {
          "output_type": "stream",
          "name": "stdout",
          "text": [
            "index\n",
            "ování\n",
            "ieví\n",
            "Prvních 5 písmen:  index\n",
            "index\n",
            "Posledních 5 písmen:  ování\n",
            "ování\n",
            "Každé 3. písmeno (počínaje prvním) od 'i':  ieví\n",
            "\n"
          ]
        }
      ]
    },
    {
      "cell_type": "code",
      "source": [
        "kg_lb = 2.20\n",
        "km_mile = 0.62\n",
        "l_gal = 0.26\n",
        "\n",
        "kg_pocet = 80\n",
        "km_pocet = 54\n",
        "l_pocet = 5\n",
        "\n",
        "kg_vysledek = kg_pocet * kg_lb\n",
        "km_vysledek = (km_pocet * km_mile)\n",
        "l_vysledek = (l_pocet * l_gal)\n",
        "\n",
        "print(kg_pocet, \"kg je\", kg_vysledek, \"lb\")\n",
        "print(km_pocet, \"km je\", km_vysledek, \"mil\")\n",
        "print(l_pocet, \"l je\", l_vysledek, \"gal\")"
      ],
      "metadata": {
        "colab": {
          "base_uri": "https://localhost:8080/"
        },
        "id": "9Exkid9Olxc5",
        "outputId": "6c2768fc-7ece-47f1-a7e2-83894ad75f71"
      },
      "execution_count": null,
      "outputs": [
        {
          "output_type": "stream",
          "name": "stdout",
          "text": [
            "80 kg je 176.0 lb\n",
            "54 km je 33.48 mil\n",
            "5 l je 1.3 gal\n"
          ]
        }
      ]
    },
    {
      "cell_type": "code",
      "source": [
        "mercedes = 150_000\n",
        "rolls_royce = 400_000\n",
        "vybava = 50_000\n",
        "\n",
        "sleva_merc = 5000\n",
        "cena_2_merc = 2 * mercedes\n",
        "cena_merc_a_rolls = mercedes + rolls_royce\n",
        "cena_2_rollss_s_vybavou = 2 * (rolls_royce + vybava)\n",
        "cena_merc_s_vybavou = mercedes + vybava\n",
        "merc_se_slevou = mercedes - sleva_merc\n",
        "\n",
        "print(\"Sleva na Mercedes:\", sleva_merc)\n",
        "print(\"Cena za 2 Mercedesy je:\", cena_2_merc)\n",
        "print(\"Cena za Mercedes a Rolls-Royce:\", cena_merc_a_rolls)\n",
        "print(\"Cena za 2 Rolls-Royce s příplatkovou výbavou:\", cena_2_rollss_s_vybavou)\n",
        "print(\"Cena za Mercedes s příplatkovou výbavou\", cena_merc_s_vybavou)\n",
        "print(\"Cena za Mercedes po slevě:\", merc_se_slevou)\n",
        "\n",
        "\n"
      ],
      "metadata": {
        "colab": {
          "base_uri": "https://localhost:8080/"
        },
        "id": "5ejBKkutnL5a",
        "outputId": "59e0014d-fc7f-4fe1-e084-d8c64d25b37c"
      },
      "execution_count": null,
      "outputs": [
        {
          "output_type": "stream",
          "name": "stdout",
          "text": [
            "Sleva na Mercedes: 5000\n",
            "Cena za 2 Mercedesy je: 300000\n",
            "Cena za Mercedes a Rolls-Royce: 550000\n",
            "Cena za 2 Rolls-Royce s příplatkovou výbavou: 900000\n",
            "Cena za Mercedes s příplatkovou výbavou 200000\n",
            "Cena za Mercedes po slevě: 145000\n"
          ]
        }
      ]
    },
    {
      "cell_type": "code",
      "source": [
        "jmeno = \"Lukáš\"\n",
        "prijmeni = \"Dvořák\"\n",
        "cele_jmeno = jmeno + \" \" + prijmeni\n",
        "delka_jmena = len(cele_jmeno)\n",
        "\n",
        "print(\"Celé jméno:\", cele_jmeno)\n",
        "print(\"Délka jména:\", delka_jmena)\n",
        "print((\"=\" * delka_jmena) + \"\\n\" + cele_jmeno + \"\\n\" + \"=\" * delka_jmena)"
      ],
      "metadata": {
        "colab": {
          "base_uri": "https://localhost:8080/"
        },
        "id": "J-fpBdLVpqVe",
        "outputId": "fe14b4f7-f1c4-4aa1-b16b-c04558c7e8f2"
      },
      "execution_count": null,
      "outputs": [
        {
          "output_type": "stream",
          "name": "stdout",
          "text": [
            "Celé jméno: Lukáš Dvořák\n",
            "Délka jména: 12\n",
            "============\n",
            "Lukáš Dvořák\n",
            "============\n"
          ]
        }
      ]
    },
    {
      "cell_type": "code",
      "source": [
        "jmeno = \"Abeceda\"\n",
        "print(jmeno[0], \" \", jmeno[1], \" \", jmeno[2], \" \", jmeno[3], \" \", jmeno[4], \" \", jmeno[5])"
      ],
      "metadata": {
        "colab": {
          "base_uri": "https://localhost:8080/"
        },
        "id": "fmi2D2-YstXM",
        "outputId": "77b3ea36-7036-45e1-e36b-c27a0e8d99bd"
      },
      "execution_count": 10,
      "outputs": [
        {
          "output_type": "stream",
          "name": "stdout",
          "text": [
            "A   b   e   c   e   d\n"
          ]
        }
      ]
    },
    {
      "cell_type": "markdown",
      "source": [],
      "metadata": {
        "id": "jqOYkOVLt834"
      }
    },
    {
      "cell_type": "code",
      "source": [
        "pejsci = [\"Babsi\", \"Etera\", \"Hygge\", \"Bien\"]\n",
        "print(type(pejsci))\n",
        "print(pejsci[1::2])\n",
        "\n",
        "[0, 1, 3, 80]\n",
        "print(type([0, 1, 3, 80]))"
      ],
      "metadata": {
        "colab": {
          "base_uri": "https://localhost:8080/"
        },
        "id": "bYLrDyektzQ5",
        "outputId": "4585d62b-25d2-4612-85e1-ddd504eb4abc"
      },
      "execution_count": null,
      "outputs": [
        {
          "output_type": "stream",
          "name": "stdout",
          "text": [
            "<class 'list'>\n",
            "['Etera', 'Bien']\n",
            "<class 'list'>\n"
          ]
        }
      ]
    },
    {
      "cell_type": "code",
      "source": [],
      "metadata": {
        "id": "a52Z58C2NICS"
      },
      "execution_count": null,
      "outputs": []
    },
    {
      "cell_type": "code",
      "source": [
        "print = __builtins__.print"
      ],
      "metadata": {
        "id": "teV-7N0XNEyU"
      },
      "execution_count": null,
      "outputs": []
    },
    {
      "cell_type": "code",
      "source": [
        "print(\"dejna\")"
      ],
      "metadata": {
        "colab": {
          "base_uri": "https://localhost:8080/"
        },
        "id": "YpGXgol_NN_G",
        "outputId": "e0d513b9-dd5c-414e-8e2b-7f7a7129ef3a"
      },
      "execution_count": null,
      "outputs": [
        {
          "output_type": "stream",
          "name": "stdout",
          "text": [
            "dejna\n"
          ]
        }
      ]
    },
    {
      "cell_type": "code",
      "source": [
        "print(\"dejna\", \"pavel\")"
      ],
      "metadata": {
        "id": "J04Ohyf4NRod",
        "outputId": "a85e5c31-d381-4947-d12b-aec27c57fc25",
        "colab": {
          "base_uri": "https://localhost:8080/"
        }
      },
      "execution_count": null,
      "outputs": [
        {
          "output_type": "stream",
          "name": "stdout",
          "text": [
            "dejna pavel\n"
          ]
        }
      ]
    },
    {
      "cell_type": "code",
      "source": [
        "print(5 + 9)\n",
        "print(\"Pavel\" + \" Dejna\")\n",
        "print(\"pavel\", \"dejna\")"
      ],
      "metadata": {
        "colab": {
          "base_uri": "https://localhost:8080/"
        },
        "id": "CjxGKDbBN1Mf",
        "outputId": "b412ec9f-2991-47f7-ce4d-0d179dcf9950"
      },
      "execution_count": 74,
      "outputs": [
        {
          "output_type": "stream",
          "name": "stdout",
          "text": [
            "14\n",
            "Pavel Dejna\n",
            "pavel dejna\n"
          ]
        }
      ]
    },
    {
      "cell_type": "code",
      "source": [
        "print(6 > 4)\n",
        "print(True == 0)\n",
        "print(bool(6 == 4))\n",
        "print(5 != 1)"
      ],
      "metadata": {
        "colab": {
          "base_uri": "https://localhost:8080/"
        },
        "id": "crImSdOgmOKE",
        "outputId": "35dbdf53-6062-4621-cea1-f5db928e75f9"
      },
      "execution_count": 81,
      "outputs": [
        {
          "output_type": "stream",
          "name": "stdout",
          "text": [
            "True\n",
            "False\n",
            "False\n",
            "True\n"
          ]
        }
      ]
    },
    {
      "cell_type": "code",
      "source": [
        "jmeno = \"peggy\"\n",
        "\n",
        "if jmeno == \"dejna\":\n",
        "  print(\"Ahoj, Dejnusko <3\")\n",
        "else:\n",
        "  print(\"Ahoj, kámo!\")\n",
        "\n",
        "bool(jmeno == \"dejna\")"
      ],
      "metadata": {
        "colab": {
          "base_uri": "https://localhost:8080/"
        },
        "id": "B4RTUGBJ3cdt",
        "outputId": "6219bead-b07d-4016-8774-3f90b0beb387"
      },
      "execution_count": 97,
      "outputs": [
        {
          "output_type": "stream",
          "name": "stdout",
          "text": [
            "Ahoj, kámo!\n"
          ]
        },
        {
          "output_type": "execute_result",
          "data": {
            "text/plain": [
              "False"
            ]
          },
          "metadata": {},
          "execution_count": 97
        }
      ]
    },
    {
      "cell_type": "code",
      "source": [
        "print(\"dejna \")\n",
        "\n",
        "\n"
      ],
      "metadata": {
        "colab": {
          "base_uri": "https://localhost:8080/"
        },
        "id": "pj8nq4UnK38q",
        "outputId": "6bb1ec79-18c9-4eec-f5b1-a6f15b403314"
      },
      "execution_count": 106,
      "outputs": [
        {
          "output_type": "stream",
          "name": "stdout",
          "text": [
            "dejna \n"
          ]
        }
      ]
    },
    {
      "cell_type": "code",
      "source": [
        "jmeno = \"Dejna\"\n",
        "\n",
        "if jmeno == \"Lukas\":\n",
        "  print(\"Čau, Luky!\")\n",
        "elif jmeno == \"Dejna\":\n",
        "  print(\"Ahoj, Dejnusko <3\")\n",
        "elif jmeno == \"Hygge\":\n",
        "  print(\"Ahoj, Hygganko!\")\n",
        "else:\n",
        "  print(\"Ahoj, kámo!\")\n",
        "\n",
        "\n",
        "jmeno = \"Etera\"\n",
        "\n",
        "if jmeno == \"Igi\":\n",
        "  print(\"Ahoj, Igitko\")\n",
        "elif jmeno == \"Etera\":\n",
        "  print(\"Ahoj, Ajtíku!\")\n",
        "else:\n",
        "  print(\"Ahoj, psisko!\")\n",
        "\n"
      ],
      "metadata": {
        "colab": {
          "base_uri": "https://localhost:8080/"
        },
        "id": "dX1gvcLCK5hW",
        "outputId": "61923893-d6b9-46af-b9cc-b5651d892032"
      },
      "execution_count": 5,
      "outputs": [
        {
          "output_type": "stream",
          "name": "stdout",
          "text": [
            "Ahoj, Dejnusko <3\n",
            "Ahoj, Ajtíku!\n"
          ]
        }
      ]
    },
    {
      "cell_type": "code",
      "source": [
        "print(\"ahoj\")\n",
        "print(\"dejna\".upper(), \"Honza\")\n",
        "print(\"dejna\".center(2))"
      ],
      "metadata": {
        "colab": {
          "base_uri": "https://localhost:8080/"
        },
        "id": "y00GOpM2DFTf",
        "outputId": "23116785-633a-4296-8167-4d47a19a292e"
      },
      "execution_count": 15,
      "outputs": [
        {
          "output_type": "stream",
          "name": "stdout",
          "text": [
            "ahoj\n",
            "DEJNA Honza\n",
            "dejna\n"
          ]
        }
      ]
    },
    {
      "cell_type": "code",
      "source": [
        "print(\"dejna\".index(\"d\"))"
      ],
      "metadata": {
        "colab": {
          "base_uri": "https://localhost:8080/"
        },
        "id": "2Xf1w15EEJZN",
        "outputId": "4fdfffb7-f7e9-4070-d5d5-062293c83a84"
      },
      "execution_count": 19,
      "outputs": [
        {
          "output_type": "stream",
          "name": "stdout",
          "text": [
            "0\n"
          ]
        }
      ]
    },
    {
      "cell_type": "code",
      "source": [
        "print(\"dejna\".replace(\"d\", \"L\"))"
      ],
      "metadata": {
        "colab": {
          "base_uri": "https://localhost:8080/"
        },
        "id": "iWDXU_wtEXGo",
        "outputId": "119d7eb6-3c1d-4190-ac32-010779b3b9e5"
      },
      "execution_count": 20,
      "outputs": [
        {
          "output_type": "stream",
          "name": "stdout",
          "text": [
            "Lejna\n"
          ]
        }
      ]
    },
    {
      "cell_type": "code",
      "source": [
        "muj_seznam = [\"b\", \"a\", \"c\", \"c\"]\n",
        "print(muj_seznam.sort())\n",
        "muj_seznam.append(1)\n",
        "print(muj_seznam)\n",
        "\n",
        "print(muj_seznam.count(\"c\"))\n"
      ],
      "metadata": {
        "colab": {
          "base_uri": "https://localhost:8080/"
        },
        "id": "vgGJq89AFaEq",
        "outputId": "58b34aa0-a2f7-4825-abb3-f03d8ab1f148"
      },
      "execution_count": 27,
      "outputs": [
        {
          "output_type": "stream",
          "name": "stdout",
          "text": [
            "None\n",
            "['a', 'b', 'c', 'c', 1]\n",
            "2\n"
          ]
        }
      ]
    },
    {
      "cell_type": "code",
      "source": [
        "zamestnanci = [\n",
        "    'František', 'Bruno',\n",
        "    'Anna', 'Jakub',\n",
        "    'Klára', 'Anežka',\n",
        "    'Anežka', 'Anežka'\n",
        "]\n",
        "\n",
        "posledni_index_jmeno = zamestnanci[-1]\n",
        "posledni_index_cislo = len(zamestnanci) - 1\n",
        "\n",
        "\n",
        "print(posledni_index_jmeno)\n",
        "print(posledni_index_cislo)\n",
        "print(zamestnanci[2])\n",
        "\n",
        "print(\"Na indexu 2 je:\", zamestnanci[2])\n",
        "print(\"Na\", posledni_index_cislo, \"indexu je:\", posledni_index_jmeno)\n",
        "print(\"V intervalu od 2 do 5 je:\", zamestnanci[2:6])\n",
        "print(\"Kařdý třetí člen je:\", zamestnanci[0::3])\n",
        "\n",
        "\n"
      ],
      "metadata": {
        "colab": {
          "base_uri": "https://localhost:8080/"
        },
        "id": "f7s-LEAUG9iA",
        "outputId": "7f009435-36d0-4ba7-aa78-768792bfd882"
      },
      "execution_count": 39,
      "outputs": [
        {
          "output_type": "stream",
          "name": "stdout",
          "text": [
            "Anežka\n",
            "7\n",
            "Anna\n",
            "Na indexu 2 je: Anna\n",
            "Na 7 indexu je: Anežka\n",
            "V intervalu od 2 do 5 je: ['Anna', 'Jakub', 'Klára', 'Anežka']\n",
            "Kařdý třetí člen je: ['František', 'Jakub', 'Anežka']\n"
          ]
        }
      ]
    },
    {
      "cell_type": "code",
      "source": [
        "\"\"\"\n",
        "  < 18,5\tPodvýživa\n",
        "  18,5 – 25\tZdravá váha\n",
        "  25 – 30\tMírná nadváha\n",
        "  30 – 40\tObezita\n",
        "  40 <\tTěžká obezita\n",
        "\"\"\"\n",
        "jmeno = \"Dejna\"\n",
        "Martin_vaha = 50\n",
        "Martin_vyska = 1.57\n",
        "\n",
        "bmi = Martin_vaha / Martin_vyska ** 2\n",
        "\n",
        "\n",
        "\n",
        "if bmi < 18.5:\n",
        " kategorie = \"podvýživa\"\n",
        "elif bmi < 25:\n",
        "  kategorie = \"zdravá váha\"\n",
        "elif bmi < 30:\n",
        "    kategorie = \"mírná nadváha\"\n",
        "elif bmi < 40:\n",
        "    kategorie = \"obezita\"\n",
        "elif bmi > 40:\n",
        "    kategorie = \"těžká obezita\"\n",
        "else:\n",
        "  kategorie = \"špatně zadaná data\"\n",
        "\n",
        "print(jmeno, \" má BMI: \", bmi, \", což spadá do kategorie \", kategorie, \".\", sep=\"\")\n"
      ],
      "metadata": {
        "colab": {
          "base_uri": "https://localhost:8080/"
        },
        "id": "j-TVdsEdKhoM",
        "outputId": "93435f2a-a3c1-4849-de12-d290275dbe88"
      },
      "execution_count": 1,
      "outputs": [
        {
          "output_type": "stream",
          "name": "stdout",
          "text": [
            "Dejna má BMI: 20.28479857195018, což spadá do kategorie zdravá váha.\n"
          ]
        }
      ]
    },
    {
      "cell_type": "code",
      "source": [
        "zamestnanci = [\"František\", \"Anna\", \"Jakub\", \"Klára\"]\n",
        "print(\"Zaměstananci na začátku:\", zamestnanci)\n",
        "\n",
        "zamestnanci_a = zamestnanci.copy()\n",
        "zamestnanci_a.append(\"Bruno\")\n",
        "zamestnanci_a.append(\"Anežka\")\n",
        "\n",
        "print(\"Nová jména přidána:\", zamestnanci_a)\n",
        "\n",
        "zamestnanci_b = zamestnanci.copy()\n",
        "zamestnanci_b.insert(1, \"Bruno\")\n",
        "\n",
        "print(\"Nová jména vložena:\", zamestnanci_b)\n",
        "\n",
        "print(\"Dejna\", \"Humpolcova\", sep=\"-\")"
      ],
      "metadata": {
        "colab": {
          "base_uri": "https://localhost:8080/"
        },
        "id": "E3gAm4umOmtw",
        "outputId": "857d13df-4e08-45ac-946f-7cd9c0ec7e68"
      },
      "execution_count": 70,
      "outputs": [
        {
          "output_type": "stream",
          "name": "stdout",
          "text": [
            "Zaměstananci na začátku: ['František', 'Anna', 'Jakub', 'Klára']\n",
            "Nová jména přidána: ['František', 'Anna', 'Jakub', 'Klára', 'Bruno', 'Anežka']\n",
            "Nová jména vložena: ['František', 'Bruno', 'Anna', 'Jakub', 'Klára']\n",
            "Dejna-Humpolcova\n"
          ]
        }
      ]
    },
    {
      "cell_type": "code",
      "source": [
        "vstupni_cisla = [1, 2, 3, 4, 5, 6, 7]\n",
        "vstupni_pismena = [\"p\", \"ú\", \"s\", \"č\", \"p\", \"s\", \"n\"]\n",
        "tyden = ('pondělí', 'úterý', 'středa', 'čtvrtek', 'pátek', 'sobota', 'neděle')\n",
        "\n",
        "cislo_dne = 3\n",
        "\n",
        "if cislo_dne in vstupni_cisla:\n",
        "  print(\"Správná vstupní hodnota!\")\n",
        "  den_tydne = tyden[cislo_dne - 1]\n",
        "  if den_tydne.startswith(vstupni_pismena[cislo_dne -1]):\n",
        "    print(\"správné písmeno\")\n",
        "  else:\n",
        "    print(\"Špatné písmeno\")\n",
        "else:\n",
        "  print(\"Špatná vstupní hodnota!\")\n",
        "\n"
      ],
      "metadata": {
        "colab": {
          "base_uri": "https://localhost:8080/"
        },
        "id": "0zooEk4ZUsJL",
        "outputId": "f7e1aec5-7d4f-4b09-8d66-a246359c0306"
      },
      "execution_count": 12,
      "outputs": [
        {
          "output_type": "stream",
          "name": "stdout",
          "text": [
            "Správná vstupní hodnota!\n",
            "správné písmeno\n"
          ]
        }
      ]
    },
    {
      "cell_type": "code",
      "source": [
        "print(2 + 9)\n",
        "print(\"první řádek \\ndruhý řádek\")\n",
        "\n",
        "print(\"\"\"jedna,\n",
        "dvě\"\"\")\n",
        "\n",
        "print(\"dej \" * 6)\n",
        "print(200 - int(\"5\"))\n",
        "print(\"Babsi\"[1:4:2])\n",
        "print(str(2024)[0])\n",
        "\n",
        "muj_udaj = \"ahoj andrejko jak se mas?\"\n",
        "print(len(muj_udaj))\n",
        "\n",
        "print([\"@\"] * 5)\n",
        "print([1, 3, 5] + [2, 4, 6])"
      ],
      "metadata": {
        "colab": {
          "base_uri": "https://localhost:8080/"
        },
        "id": "7FdSIKQ-lrdp",
        "outputId": "e2113977-4cd5-433e-fd88-0091d8a58031"
      },
      "execution_count": 26,
      "outputs": [
        {
          "output_type": "stream",
          "name": "stdout",
          "text": [
            "11\n",
            "první řádek \n",
            "druhý řádek\n",
            "jedna,\n",
            "dvě\n",
            "dej dej dej dej dej dej \n",
            "195\n",
            "as\n",
            "2\n",
            "25\n",
            "['@,', '@,', '@,', '@,', '@,']\n",
            "[1, 3, 5, 2, 4, 6]\n"
          ]
        }
      ]
    },
    {
      "cell_type": "code",
      "source": [
        "1. #**Pozdravit** uživatele,\n",
        "2. #**Vypsat** nabídku,\n",
        "3. #Dovolit uživateli **zadat vstupní data**,\n",
        "4. #**Zpracovat** vstupní data,\n",
        "5. #**Vypsat** zpracovaná data.\n",
        "\n",
        "mesta = [\"Praha\", \"Viden\", \"Olomouc\", \"Svitavy\", \"Zlin\", \"Ostrava\"]\n",
        "ceny = (150, 200, 120, 120, 100, 180)\n",
        "cara = \"=\" * 35\n",
        "nabidka = \"\"\"1 - Praha   | 150\n",
        "2 - Viden   | 200\n",
        "3 - Olomouc | 120\n",
        "4 - Svitavy | 120\n",
        "5 - Zlin    | 100\n",
        "6 - Ostrava | 180\"\"\"\n",
        "\n",
        "#VITEJTE U NASI APLIKACE DESTINATIO!\n",
        "#===================================\n",
        "pozdrav = \"VITEJTE U NASI APLIKACE DESTINATIO!\"\n",
        "pocet = len(pozdrav)\n",
        "cara = \"=\" * pocet\n",
        "\n",
        "print(pozdrav)\n",
        "print(cara)\n",
        "print(nabidka)\n",
        "print(cara)\n",
        "\n",
        "destinace = int(input(\"CISLO DESTINACE:\"))\n",
        "jmeno = input(\"JMENO:\")\n",
        "prijmeni = input(\"PRIJMENI:\")\n",
        "email = input(\"EMAIL:\")\n",
        "rok_narozeni = input(\"ROK NAROZENI:\")\n",
        "\n",
        "print(cara)\n",
        "print(mesta[destinace - 1])\n",
        "print(ceny[destinace-1])\n",
        "print(cara)\n",
        "print(\"Děkuji,\", jmeno, \"za objednávku,\")\n",
        "print(\"Cíl. destinace:\", mesta[destinace - 1], \"cena jízdného:\", ceny[destinace-1])\n",
        "print(\"na tvůj e-mail\", email, \"jsme ti poslali lístek.\")\n",
        "print(cara)\n",
        "\n",
        "\n",
        "\n",
        "\n",
        "\n"
      ],
      "metadata": {
        "colab": {
          "base_uri": "https://localhost:8080/"
        },
        "id": "tdc3Jj17HOVV",
        "outputId": "b691a43f-bacd-41e5-f353-c1f63516c94c"
      },
      "execution_count": 3,
      "outputs": [
        {
          "output_type": "stream",
          "name": "stdout",
          "text": [
            "VITEJTE U NASI APLIKACE DESTINATIO!\n",
            "===================================\n",
            "1 - Praha   | 150\n",
            "2 - Viden   | 200\n",
            "3 - Olomouc | 120\n",
            "4 - Svitavy | 120\n",
            "5 - Zlin    | 100\n",
            "6 - Ostrava | 180\n",
            "===================================\n",
            "CISLO DESTINACE:3\n",
            "JMENO:Dejna\n",
            "PRIJMENI:H\n",
            "EMAIL:dejna@\n",
            "ROK NAROZENI:00\n",
            "===================================\n",
            "Olomouc\n",
            "120\n",
            "===================================\n",
            "Děkuji, Dejna za objednávku,\n",
            "Cíl. destinace: Olomouc cena jízdného: 120\n",
            "na tvůj e-mail dejna@ jsme ti poslali lístek.\n",
            "===================================\n"
          ]
        }
      ]
    },
    {
      "cell_type": "code",
      "source": [
        "()"
      ],
      "metadata": {
        "id": "9hUvdGb0Psbf"
      },
      "execution_count": null,
      "outputs": []
    },
    {
      "cell_type": "code",
      "source": [
        "print([1] * 3)\n",
        "print((1,) * 3)"
      ],
      "metadata": {
        "colab": {
          "base_uri": "https://localhost:8080/"
        },
        "id": "EMtyS_eiXF7s",
        "outputId": "28283fa9-c521-444e-85a2-1dbe74475ad1"
      },
      "execution_count": 46,
      "outputs": [
        {
          "output_type": "stream",
          "name": "stdout",
          "text": [
            "[1, 1, 1]\n",
            "(1, 1, 1)\n"
          ]
        }
      ]
    },
    {
      "cell_type": "code",
      "source": [
        "vstupni_cisla = [1, 2, 3, 4, 5, 6, 7]\n",
        "vstupni_pismena = [\"p\", \"ú\", \"s\", \"č\", \"p\", \"s\", \"n\"]\n",
        "tyden = ('pondělí', 'úterý', 'středa', 'čtvrtek', 'pátek', 'sobota', 'neděle')\n",
        "\n",
        "cislo_dne = int(input(\"zadejte čislo dne v tydnu\"))\n",
        "\n",
        "\n",
        "if cislo_dne in vstupni_cisla:\n",
        "  print(\"Správná vstupná hodnota!\")\n",
        "  den_tydne = tyden[cislo_dne -1]\n",
        "  print(\"dnes je:\", den_tydne)\n",
        "  if den_tydne.startswith(vstupni_pismena[cislo_dne -1]):\n",
        "    print(\"správné písmeno\")\n",
        "  else:\n",
        "    print(\"Špatné písmeno\")\n",
        "else:\n",
        "  print(\"Špatná vstupní hodnota!\")"
      ],
      "metadata": {
        "colab": {
          "base_uri": "https://localhost:8080/"
        },
        "id": "N_z-SCJxzbLj",
        "outputId": "3fce3f7f-79d6-4461-c447-c567ca513861"
      },
      "execution_count": 4,
      "outputs": [
        {
          "output_type": "stream",
          "name": "stdout",
          "text": [
            "zadejte čislo dne v tydnu3\n",
            "Správná vstupná hodnota!\n",
            "dnes je: středa\n",
            "správné písmeno\n"
          ]
        }
      ]
    },
    {
      "cell_type": "code",
      "source": [
        "print((int(\"2\") == 1))\n",
        "\n",
        "\n",
        "policko = input(\"Zadej číslo 1-10\")\n",
        "print(bool(int(policko) == 2))"
      ],
      "metadata": {
        "colab": {
          "base_uri": "https://localhost:8080/"
        },
        "id": "dtQDg3KIN3Xq",
        "outputId": "c79726ab-1448-4382-a7d3-f452e024f2ca"
      },
      "execution_count": 1,
      "outputs": [
        {
          "output_type": "stream",
          "name": "stdout",
          "text": [
            "False\n",
            "Zadej číslo 1-102\n",
            "True\n"
          ]
        }
      ]
    },
    {
      "cell_type": "code",
      "source": [
        "print(\"1\" == 1)\n",
        "print(False < 2)\n",
        "\n",
        "mail = \"dejna.k@seznam.cz\"\n",
        "print(mail[10:6:-1])\n",
        "\n",
        "print(\"d\" and \"z\" in \"dejna\")\n",
        "\n"
      ],
      "metadata": {
        "colab": {
          "base_uri": "https://localhost:8080/"
        },
        "id": "-Kubd1afQ5us",
        "outputId": "6b29627a-8670-437e-8458-6a0139c041d0"
      },
      "execution_count": 23,
      "outputs": [
        {
          "output_type": "stream",
          "name": "stdout",
          "text": [
            "False\n",
            "True\n",
            "zes@\n",
            "False\n"
          ]
        }
      ]
    },
    {
      "cell_type": "code",
      "source": [
        "cislo_1 = input((\"vlož vstup\"))\n",
        "cislo_1 = float(cislo_1)\n",
        "cislo_3 = float(input(\"Vlož vstup\"))\n",
        "\n",
        "cislo_2 = input((\"vlož vstup\"))\n",
        "cislo_2 = float(cislo_2)\n",
        "print(type(cislo_1))\n",
        "print(cislo_1)\n",
        "print(cislo_2)\n",
        "\n",
        "if cislo_1 > cislo_2:\n",
        "    print(\"První číslo je větší než druhé.\")\n",
        "elif cislo_1 < cislo_2:\n",
        "    print(\"První číslo je menší než druhé\")\n",
        "else:\n",
        "    print(\"Obě čísla jsou stejná\")"
      ],
      "metadata": {
        "colab": {
          "base_uri": "https://localhost:8080/"
        },
        "id": "PbH4s3FYydXT",
        "outputId": "a4856b2f-094e-4578-fdfb-91b4822dc497"
      },
      "execution_count": 33,
      "outputs": [
        {
          "output_type": "stream",
          "name": "stdout",
          "text": [
            "vlož vstup3\n",
            "vlož vstup3\n",
            "<class 'float'>\n",
            "3.0\n",
            "3.0\n",
            "Obě čísla jsou stejná\n"
          ]
        }
      ]
    },
    {
      "cell_type": "code",
      "source": [
        "cislo_1 = float(input(\"Vlož data\"))\n",
        "cislo_2 = float(input(\"Vlož data\"))\n",
        "\n",
        "if cislo_1 == cislo_2:\n",
        "    print(\"Obě čísla jsou stejná\")\n",
        "elif cislo_1 < cislo_2:\n",
        "    print(\"První číslo je menší než druhé\")\n",
        "else:\n",
        "    print(\"První číslo je větší než druhé\")\n",
        "\n"
      ],
      "metadata": {
        "colab": {
          "base_uri": "https://localhost:8080/"
        },
        "id": "ubtWuLg4qU_y",
        "outputId": "338050cc-21e7-4ef3-c719-a5f5661551c1"
      },
      "execution_count": 3,
      "outputs": [
        {
          "output_type": "stream",
          "name": "stdout",
          "text": [
            "Vlož data2\n",
            "Vlož data4\n",
            "První číslo je menší než druhé\n"
          ]
        }
      ]
    },
    {
      "cell_type": "code",
      "source": [
        "cislo = int(input(\"Zadejte celé číslo\"))\n",
        "\n",
        "if cislo % 3 == 0 and cislo % 5 == 0:\n",
        "    print(\"FizzBuzz\")\n",
        "elif cislo % 3 == 0:\n",
        "    print(\"Fizz\")\n",
        "elif cislo % 5 == 0:\n",
        "    print(\"Buzz\")\n",
        "else:\n",
        "    print(cislo)\n",
        "\n"
      ],
      "metadata": {
        "colab": {
          "base_uri": "https://localhost:8080/"
        },
        "id": "Wmy1DAoWaTAq",
        "outputId": "a5b0ae60-3573-4c55-b4a7-4e286489276d"
      },
      "execution_count": 4,
      "outputs": [
        {
          "output_type": "stream",
          "name": "stdout",
          "text": [
            "Zadejte celé číslo21\n",
            "Fizz\n"
          ]
        }
      ]
    },
    {
      "cell_type": "code",
      "source": [
        "vek = 20\n",
        "\n",
        "if vek >= 18:\n",
        "    print(\"Dospělý\")\n",
        "else:\n",
        "    print(\"Mladiství\")\n",
        "\n",
        "\n",
        "print(\"Dospělák\") if vek >= 18 else print(\"Děcko\")\n",
        "\n",
        "print(\"Dospěláček\") if vek >= 18 else print(\"Ahoj Dítě\")"
      ],
      "metadata": {
        "colab": {
          "base_uri": "https://localhost:8080/"
        },
        "id": "t3xqCOTidP3H",
        "outputId": "ca473127-d93e-4161-ebeb-4d8c56d0b883"
      },
      "execution_count": 10,
      "outputs": [
        {
          "output_type": "stream",
          "name": "stdout",
          "text": [
            "Dospělý\n",
            "Dospělák\n",
            "Dospěláček\n"
          ]
        }
      ]
    },
    {
      "cell_type": "code",
      "source": [
        "\n",
        "\n",
        "jmeno = \"matous.holinka@gmail.com\"\n",
        "\n",
        "print(jmeno[0:14])\n",
        "print(jmeno.replace(\".\", \" \"))\n",
        "print(jmeno.title())\n",
        "\n",
        "print(jmeno.split(\"@\")[0].replace(\".\", \" \").title())"
      ],
      "metadata": {
        "colab": {
          "base_uri": "https://localhost:8080/"
        },
        "id": "w--LFtz_fPds",
        "outputId": "1421a098-a9df-4315-f233-d577341869dd"
      },
      "execution_count": 20,
      "outputs": [
        {
          "output_type": "stream",
          "name": "stdout",
          "text": [
            "matous.holinka\n",
            "matous holinka@gmail com\n",
            "Matous.Holinka@Gmail.Com\n",
            "Matous Holinka\n"
          ]
        }
      ]
    },
    {
      "cell_type": "code",
      "source": [
        "zaznam_delene = \"2021-01-01 11:11:11:1111 - něco se děje, \\n\n",
        " 2021-01-01 11:12:11:1111 - nic to nebylo, \\n\n",
        " 2021-01-01 11:13:11:1111 - a přece něco!, \\n\n",
        "\"\n",
        "\n",
        " zaznam_delene.insert(0, \"2021-01-01 11:10:11:1111 - BANG,\\n\")\n",
        " zaznam_delen.append(\"2021-01-01 11:10:11:1111 - BANG,\\n\")\n",
        "\n",
        "print = zaznam_delene"
      ],
      "metadata": {
        "colab": {
          "base_uri": "https://localhost:8080/",
          "height": 108
        },
        "id": "1uY9EMGAg9ZO",
        "outputId": "5629b3c4-e9d6-4962-e09f-14f572d1509d"
      },
      "execution_count": 24,
      "outputs": [
        {
          "output_type": "error",
          "ename": "SyntaxError",
          "evalue": "unterminated string literal (detected at line 1) (<ipython-input-24-57a1ca97febe>, line 1)",
          "traceback": [
            "\u001b[0;36m  File \u001b[0;32m\"<ipython-input-24-57a1ca97febe>\"\u001b[0;36m, line \u001b[0;32m1\u001b[0m\n\u001b[0;31m    zaznam_delene = \"2021-01-01 11:11:11:1111 - něco se děje, \\n\u001b[0m\n\u001b[0m                    ^\u001b[0m\n\u001b[0;31mSyntaxError\u001b[0m\u001b[0;31m:\u001b[0m unterminated string literal (detected at line 1)\n"
          ]
        }
      ]
    },
    {
      "cell_type": "code",
      "source": [
        "heslo_0 = \"\"            # FAIL -> \"Vynechal jsi pole s heslem!\"\n",
        "heslo_1 = \"1panpes738\"  # FAIL -> \"Heslo nesmí začínat číselným znakem\"\n",
        "heslo_2 = \"panpessss\"   # FAIL -> \"Heslo musí obsahovat jak číselné znaky, tak písmena\"\n",
        "heslo_3 = \"123456\"      # FAIL -> \"Heslo nesmí začínat číselným znakem\"\n",
        "heslo_4 = \"aa1234\"      # FAIL -> \"Heslo musí být alespoň 8 znaků dlouhé\"\n",
        "heslo_5 = \"p@npes7778\"  # FAIL -> \"Heslo nesmí obsahovat '@'\"\n",
        "heslo_6 = \"panpes7778\"  # PASS -> \"Heslo je v pořádku\"\n",
        "\n",
        "heslo = heslo_6\n",
        "print(heslo.find(\"@\"))\n",
        "\n",
        "if not heslo:\n",
        "    print(\"Vynechal jsi pole s heslem!\")\n",
        "elif heslo[0].isdigit() and not heslo.isnumeric():\n",
        "    print(\"Heslo nesmí začínat číselným znakem\")\n",
        "elif len(heslo) < 8:\n",
        "    print(\"Heslo musí být alespoň 8 znaků dlouhé\")\n",
        "elif heslo.find(\"@\") != -1:\n",
        "    print(\"Heslo nesmí obsahovat '@'\")\n",
        "\n",
        "else:\n",
        "    print(\"Heslo je v pořádku\")\n"
      ],
      "metadata": {
        "colab": {
          "base_uri": "https://localhost:8080/"
        },
        "id": "57bhKwWUi5lh",
        "outputId": "00e1d7ab-8b1f-4d16-d725-fb473be60e75"
      },
      "execution_count": 67,
      "outputs": [
        {
          "output_type": "stream",
          "name": "stdout",
          "text": [
            "-1\n",
            "Heslo je v pořádku\n"
          ]
        }
      ]
    },
    {
      "cell_type": "code",
      "source": [
        "print = __builtins__.print\n",
        "\n",
        "print(slovnik_muj)\n",
        "print(type(slovnik_muj))\n",
        "slovnik_muj[\"nový_klic\"] = \"kocka\"\n",
        "print(slovnik_muj)\n",
        "\n",
        "\n",
        "prvni_slovnik = {}\n",
        "druhy_slovnik = dict()\n",
        "seznam1 = list()\n",
        "seznam2 = []\n",
        "\n",
        "print(type(prvni_slovnik))\n",
        "print(type(druhy_slovnik))\n",
        "print(type(seznam1))\n",
        "print(type(seznam2))"
      ],
      "metadata": {
        "colab": {
          "base_uri": "https://localhost:8080/"
        },
        "id": "WZRkrFimWiYY",
        "outputId": "1811b9e3-65f3-47a0-9390-e337cc181b88"
      },
      "execution_count": 4,
      "outputs": [
        {
          "output_type": "stream",
          "name": "stdout",
          "text": [
            "hodnota2\n",
            "{'klic': 'hodnota', 'klic2': 'hodnota2'}\n",
            "<class 'dict'>\n",
            "{'klic': 'hodnota', 'klic2': 'hodnota2', 'nový_klic': 'kocka'}\n",
            "<class 'dict'>\n",
            "<class 'dict'>\n",
            "<class 'list'>\n",
            "<class 'list'>\n"
          ]
        }
      ]
    },
    {
      "cell_type": "code",
      "source": [
        "treti_slovnik = {\"jmeno\": \"Marek\", \"vek\": 20}\n",
        "print(treti_slovnik)\n",
        "\n",
        "ctvrty_slovnik = dict(jmeno=\"Lukáš\", vek=29)\n",
        "print(ctvrty_slovnik)\n",
        "\n",
        "print(treti_slovnik[\"vek\"])\n",
        "\n",
        "slovnik_1 = {\"klic1\": \"hodnota1\", \"klic2\": \"hodnota2\"}\n",
        "slovnik_2 = dict(klic3= \"hpdnota3\", klic4 = \"hodnota4\")\n",
        "\n",
        "print(slovnik_1)\n",
        "print(slovnik_2)\n",
        "\n",
        "slovnik_1.update(slovnik_2)\n",
        "print(slovnik_1)\n",
        "\n"
      ],
      "metadata": {
        "colab": {
          "base_uri": "https://localhost:8080/"
        },
        "id": "5bHlABdCeD2W",
        "outputId": "7765c092-004b-4617-c344-5d4bcbe72211"
      },
      "execution_count": 41,
      "outputs": [
        {
          "output_type": "stream",
          "name": "stdout",
          "text": [
            "{'jmeno': 'Marek', 'vek': 20}\n",
            "{'jmeno': 'Lukáš', 'vek': 29}\n",
            "20\n",
            "{'klic1': 'hodnota1', 'klic2': 'hodnota2'}\n",
            "{'klic3': 'hpdnota3', 'klic4': 'hodnota4'}\n",
            "{'klic1': 'hodnota1', 'klic2': 'hodnota2', 'klic3': 'hpdnota3', 'klic4': 'hodnota4'}\n"
          ]
        }
      ]
    },
    {
      "cell_type": "code",
      "source": [
        "# vytvoříme prázdný slovník\n",
        "slovnik_new = {}\n",
        "\n",
        "# do slovníku vložíme klíč jmeno s hodnotou \"Matous\"\n",
        "slovnik_new = dict(jmeno=\"Matouš\")\n",
        "\n",
        "# vypíšeme obsah slovníku\n",
        "print(slovnik_new)\n",
        "\n",
        "# tvoříme druhý klíč (přepíšeme původní hodnotu)\n",
        "slovnik_new = dict(jmeno=\"Lukáš\")\n",
        "\n",
        "# vypíšeme obsah\n",
        "print(slovnik_new)"
      ],
      "metadata": {
        "colab": {
          "base_uri": "https://localhost:8080/"
        },
        "id": "8x-gTXfsf9A_",
        "outputId": "2e867aec-9f3b-4c2c-afbc-8cfc03894e7a"
      },
      "execution_count": 43,
      "outputs": [
        {
          "output_type": "stream",
          "name": "stdout",
          "text": [
            "{'jmeno': 'Matouš'}\n",
            "{'jmeno': 'Lukáš'}\n"
          ]
        }
      ]
    },
    {
      "cell_type": "code",
      "source": [
        "muj_slovnik = {}\n",
        "\n",
        "# do prázdného slovníku vložíme klíč a hodnotu\n",
        "muj_slovnik[\"jmeno\"] = \"Matous\"\n",
        "\n",
        "# vložíme další 3 klíče a hodnoty\n",
        "muj_slovnik[\"vek\"] = 100\n",
        "muj_slovnik[\"ridicske opravneni\"] = True\n",
        "muj_slovnik[\"kontaktni_udaje\"] = (\"+420788882323\", \"matous@matous.cz\")\n",
        "\n",
        "# vypíšeme celý slovník\n",
        "print(muj_slovnik)\n",
        "\n",
        "# k jednotlivým hodnotám přistoupíš pomocí jména klíče\n",
        "print(muj_slovnik[\"jmeno\"])\n",
        "print(muj_slovnik[\"vek\"])\n",
        "\n",
        "#\"\"\"----------\"\"\"\n",
        "\n",
        "print(muj_slovnik[\"kontaktni_udaje\"])\n"
      ],
      "metadata": {
        "colab": {
          "base_uri": "https://localhost:8080/"
        },
        "id": "2hPOpBYfgnR6",
        "outputId": "194f5460-c7fd-417c-86b2-9b2260365ef5"
      },
      "execution_count": 54,
      "outputs": [
        {
          "output_type": "stream",
          "name": "stdout",
          "text": [
            "{'jmeno': 'Matous', 'vek': 100, 'ridicske opravneni': True, 'kontaktni_udaje': ('+420788882323', 'matous@matous.cz')}\n",
            "Matous\n",
            "100\n",
            "('+420788882323', 'matous@matous.cz')\n"
          ]
        }
      ]
    },
    {
      "cell_type": "code",
      "source": [
        "# Metoda \"get\" vrací hodnotu zadaného klíče, pokud existuje\n",
        "muj_slovnik = {\"jmeno\": \"Lukas\", \"email\": \"lukas@gmail.com\"}\n",
        "print(muj_slovnik.get(\"jmeno\"))\n",
        "print(muj_slovnik.get(\"adresa\"))\n",
        "print(muj_slovnik.get(\"vek\", \"nic\"))"
      ],
      "metadata": {
        "colab": {
          "base_uri": "https://localhost:8080/"
        },
        "id": "9GLRlHzroXla",
        "outputId": "ccdc2a11-2497-4d2c-f3ef-a1d023425a41"
      },
      "execution_count": 56,
      "outputs": [
        {
          "output_type": "stream",
          "name": "stdout",
          "text": [
            "Lukas\n",
            "None\n",
            "nic\n"
          ]
        }
      ]
    },
    {
      "cell_type": "code",
      "source": [
        "frozenset_muj_1 = frozenset(\"ahoj\")\n",
        "print(frozenset_muj_1)\n",
        "\n"
      ],
      "metadata": {
        "colab": {
          "base_uri": "https://localhost:8080/"
        },
        "id": "9Pmm4ErZFj94",
        "outputId": "ae44056c-8028-4b6d-e2f0-986c158dd4e6"
      },
      "execution_count": 3,
      "outputs": [
        {
          "output_type": "stream",
          "name": "stdout",
          "text": [
            "frozenset({'j', 'o', 'a', 'h'})\n"
          ]
        }
      ]
    },
    {
      "cell_type": "code",
      "source": [
        "\n",
        "\n",
        "user_1 = {\"ahoj\": \"čau\"}\n",
        "print(user_1)\n",
        "print(type(user_1))\n",
        "user_1[\"name\"] = \"Marek\"\n",
        "user_1[\"surname\"] = \"Parek\"\n",
        "print(user_1)\n",
        "user_email = {\"email\": \"marek.parek@email.com\"}\n",
        "user_1.update(user_email)\n",
        "print(user_1)\n",
        "print(\"User #01:\", user_1)\n"
      ],
      "metadata": {
        "colab": {
          "base_uri": "https://localhost:8080/"
        },
        "id": "EfvCOaQ043qI",
        "outputId": "310c0c45-aea1-4611-ead8-d5ecde782b45"
      },
      "execution_count": 9,
      "outputs": [
        {
          "output_type": "stream",
          "name": "stdout",
          "text": [
            "{'ahoj': 'čau'}\n",
            "<class 'dict'>\n",
            "{'ahoj': 'čau', 'name': 'Marek', 'surname': 'Parek'}\n",
            "{'ahoj': 'čau', 'name': 'Marek', 'surname': 'Parek', 'email': 'marek.parek@email.com'}\n",
            "User #01: {'ahoj': 'čau', 'name': 'Marek', 'surname': 'Parek', 'email': 'marek.parek@email.com'}\n"
          ]
        }
      ]
    },
    {
      "cell_type": "code",
      "source": [
        "jmeno = 'Parek'\n",
        "heslo = '1234'\n",
        "uzivatel = {'Marek': '1234'}\n",
        "\n",
        "if uzivatel.get(jmeno) == heslo:\n",
        "  print(\"Ahoj\", jmeno, \"vítej v aplikaci! Pokračuj...\")\n",
        "else:\n",
        "  print(\"Uživatelské jméno nebo heslo nejsou v pořádku!\")"
      ],
      "metadata": {
        "colab": {
          "base_uri": "https://localhost:8080/"
        },
        "id": "4EIyHCgs7cVa",
        "outputId": "8db64433-9ac5-4687-a529-75a7135644c1"
      },
      "execution_count": 13,
      "outputs": [
        {
          "output_type": "stream",
          "name": "stdout",
          "text": [
            "Uživatelské jméno nebo heslo nejsou v pořádku!\n"
          ]
        }
      ]
    },
    {
      "cell_type": "code",
      "source": [
        "cisla_1 = (1, 1, 2, 3, 4)\n",
        "cisla_2 = (5, 6, 7, 7, 8)\n",
        "\n",
        "cisla_3 = set(cisla_1)\n",
        "cisla_4 = set(cisla_2)\n",
        "\n",
        "sjednocene_hodnoty = cisla_3.union(cisla_4)\n",
        "print(\"Sjednocené hodnoty ze zadání:\", sjednocene_hodnoty)\n",
        "\n",
        "\n",
        "\n",
        "print(type(cisla_1))\n",
        "print(type(cisla_2))\n",
        "print(type(cisla_3))\n",
        "print(type(cisla_4))\n",
        "print(cisla_3)\n",
        "print(cisla_4)\n",
        "\n",
        "\n"
      ],
      "metadata": {
        "colab": {
          "base_uri": "https://localhost:8080/"
        },
        "id": "CNM7fqUU8fjS",
        "outputId": "707d9848-2262-4538-9813-a7e80aef0574"
      },
      "execution_count": 19,
      "outputs": [
        {
          "output_type": "stream",
          "name": "stdout",
          "text": [
            "Sjednocené hodnoty ze zadání: {1, 2, 3, 4, 5, 6, 7, 8}\n",
            "<class 'tuple'>\n",
            "<class 'tuple'>\n",
            "<class 'set'>\n",
            "<class 'set'>\n",
            "{1, 2, 3, 4}\n",
            "{8, 5, 6, 7}\n"
          ]
        }
      ]
    },
    {
      "cell_type": "code",
      "source": [
        "jmeno = 'Marek'\n",
        "heslo = '1234'\n",
        "uzivatel = {'Marek': '1234'}\n",
        "\n",
        "#uzivatel.get(jmeno) == heslo\n",
        "\n",
        "if uzivatel.get(jmeno) == heslo:\n",
        "  print(\"Ahoj\", jmeno, \"vítej v aplikaci! Pokračuj...\")\n",
        "else:\n",
        "  print(\"Uživatelské jméno nebo heslo nejsou v pořádku!\")"
      ],
      "metadata": {
        "colab": {
          "base_uri": "https://localhost:8080/"
        },
        "id": "ByT8YkAE9UHJ",
        "outputId": "0f7721f4-c78d-4b28-8415-2fbd6389b5e9"
      },
      "execution_count": 20,
      "outputs": [
        {
          "output_type": "stream",
          "name": "stdout",
          "text": [
            "Ahoj Marek vítej v aplikaci! Pokračuj...\n"
          ]
        }
      ]
    },
    {
      "cell_type": "code",
      "source": [
        "cisla_1 = {1, 2, 3, 4}\n",
        "cisla_2 = {3, 4, 5, 6}\n",
        "\n",
        "rozdil_cisel = cisla_1.difference(cisla_2)\n",
        "print(\"Rozdílné hodnoty prvního setu oproti druhému:\", rozdil_cisel)"
      ],
      "metadata": {
        "colab": {
          "base_uri": "https://localhost:8080/"
        },
        "id": "IydiPGFg9-ZX",
        "outputId": "cd42f373-b3a7-4b88-81f4-5eabb4373f12"
      },
      "execution_count": 22,
      "outputs": [
        {
          "output_type": "stream",
          "name": "stdout",
          "text": [
            "Rozdílné hodnoty prvního setu oproti druhému: {1, 2}\n"
          ]
        }
      ]
    },
    {
      "cell_type": "code",
      "source": [
        "jmeno = \"Lukáš\"\n",
        "prijmeni = \"Dvořák\"\n",
        "cele_jmeno = jmeno + \" \" + prijmeni\n",
        "delka_jmena = len(cele_jmeno)\n",
        "\n",
        "print(\"Celé jméno:\", cele_jmeno)\n",
        "print(\"Délka jména:\", delka_jmena)\n",
        "print(\"=\" * delka_jmena)\n",
        "print(cele_jmeno)\n",
        "print(\"=\" * delka_jmena)"
      ],
      "metadata": {
        "colab": {
          "base_uri": "https://localhost:8080/"
        },
        "id": "APgiXGj6Llii",
        "outputId": "8d7f5fbf-72ce-4be6-b4ca-59f24680ab17"
      },
      "execution_count": 23,
      "outputs": [
        {
          "output_type": "stream",
          "name": "stdout",
          "text": [
            "Celé jméno: Lukáš Dvořák\n",
            "Délka jména: 12\n",
            "============\n",
            "Lukáš Dvořák\n",
            "============\n"
          ]
        }
      ]
    },
    {
      "cell_type": "code",
      "source": [
        "muj_seznam = [1, 2, 3, 4, 5]\n",
        "\n",
        "print(muj_seznam[4])\n",
        "\n",
        "for krumpac in [1, 2]:\n",
        "   print(krumpac)\n",
        "\n",
        "print()\n",
        "\n",
        "for pismenko in \"Dej\":\n",
        "  print(pismenko)\n",
        "\n"
      ],
      "metadata": {
        "colab": {
          "base_uri": "https://localhost:8080/"
        },
        "id": "B3IjH3dJgJb0",
        "outputId": "77f31ba9-e83d-4642-98fa-2fd0a23f776d"
      },
      "execution_count": 40,
      "outputs": [
        {
          "output_type": "stream",
          "name": "stdout",
          "text": [
            "5\n",
            "1\n",
            "2\n",
            "\n",
            "D\n",
            "e\n",
            "j\n"
          ]
        }
      ]
    },
    {
      "cell_type": "code",
      "source": [
        "\n",
        "muj_iterator = iter([\"a\", \"b\", \"c\"])\n",
        "  print(muj_iterator)"
      ],
      "metadata": {
        "colab": {
          "base_uri": "https://localhost:8080/",
          "height": 108
        },
        "id": "P6czDdGmFGnw",
        "outputId": "5c9f15aa-92a0-443e-de77-0e6952566cb5"
      },
      "execution_count": 18,
      "outputs": [
        {
          "output_type": "error",
          "ename": "IndentationError",
          "evalue": "unexpected indent (<ipython-input-18-c3d4e1e7db92>, line 2)",
          "traceback": [
            "\u001b[0;36m  File \u001b[0;32m\"<ipython-input-18-c3d4e1e7db92>\"\u001b[0;36m, line \u001b[0;32m2\u001b[0m\n\u001b[0;31m    print(muj_iterator)\u001b[0m\n\u001b[0m    ^\u001b[0m\n\u001b[0;31mIndentationError\u001b[0m\u001b[0;31m:\u001b[0m unexpected indent\n"
          ]
        }
      ]
    },
    {
      "cell_type": "code",
      "source": [
        "suda_cisla = list()\n",
        "\n",
        "for cislo in (1, 2, 3, 4, 5):\n",
        "    if cislo % 2 == 0:\n",
        "     suda_cisla.append(cislo)\n",
        "print(suda_cisla)\n",
        "\n"
      ],
      "metadata": {
        "colab": {
          "base_uri": "https://localhost:8080/"
        },
        "id": "3V7K6v1nk5r1",
        "outputId": "161ef667-d216-42b1-97b9-186640460bf9"
      },
      "execution_count": 39,
      "outputs": [
        {
          "output_type": "stream",
          "name": "stdout",
          "text": [
            "[2, 4]\n"
          ]
        }
      ]
    },
    {
      "cell_type": "code",
      "source": [
        "for cislo in (1, 2, 3, 4, 5):\n",
        "    if cislo % 2 == 0:\n",
        "        print(\"Sude cislo:\")\n",
        "    elif cislo % 2 != 0:\n",
        "        print(\"Liche cislo:\")\n",
        "    print(cislo)"
      ],
      "metadata": {
        "colab": {
          "base_uri": "https://localhost:8080/"
        },
        "id": "5iyofjEdopzO",
        "outputId": "22a6877b-5423-48b1-a2f9-42f6f121ba37"
      },
      "execution_count": 43,
      "outputs": [
        {
          "output_type": "stream",
          "name": "stdout",
          "text": [
            "Liche cislo:\n",
            "1\n",
            "Sude cislo:\n",
            "2\n",
            "Liche cislo:\n",
            "3\n",
            "Sude cislo:\n",
            "4\n",
            "Liche cislo:\n",
            "5\n"
          ]
        }
      ]
    },
    {
      "cell_type": "code",
      "source": [
        "for ahoj in (\"a\", \"b\", \"c\", \"d\"):\n",
        "  if ahoj == \"d\"\n",
        "  print(ahoj)\n",
        "\n"
      ],
      "metadata": {
        "colab": {
          "base_uri": "https://localhost:8080/"
        },
        "id": "dbVbl6oTtd_r",
        "outputId": "4b71213f-d91d-4205-aa5e-ccfc346f587e"
      },
      "execution_count": 47,
      "outputs": [
        {
          "output_type": "stream",
          "name": "stdout",
          "text": [
            "a\n",
            "b\n",
            "c\n",
            "d\n"
          ]
        }
      ]
    },
    {
      "cell_type": "code",
      "source": [
        "promenna = [1, 2]\n",
        "print(promenna.isnumeric())"
      ],
      "metadata": {
        "colab": {
          "base_uri": "https://localhost:8080/",
          "height": 162
        },
        "id": "l7EhKp7oIz0z",
        "outputId": "ad67d439-327f-4f90-a919-af27ed0fd3a6"
      },
      "execution_count": 6,
      "outputs": [
        {
          "output_type": "error",
          "ename": "AttributeError",
          "evalue": "'list' object has no attribute 'isnumeric'",
          "traceback": [
            "\u001b[0;31m---------------------------------------------------------------------------\u001b[0m",
            "\u001b[0;31mAttributeError\u001b[0m                            Traceback (most recent call last)",
            "\u001b[0;32m<ipython-input-6-eef2853a23e9>\u001b[0m in \u001b[0;36m<cell line: 0>\u001b[0;34m()\u001b[0m\n\u001b[1;32m      1\u001b[0m \u001b[0mpromenna\u001b[0m \u001b[0;34m=\u001b[0m \u001b[0;34m[\u001b[0m\u001b[0;36m1\u001b[0m\u001b[0;34m,\u001b[0m \u001b[0;36m2\u001b[0m\u001b[0;34m]\u001b[0m\u001b[0;34m\u001b[0m\u001b[0;34m\u001b[0m\u001b[0m\n\u001b[0;32m----> 2\u001b[0;31m \u001b[0mprint\u001b[0m\u001b[0;34m(\u001b[0m\u001b[0mpromenna\u001b[0m\u001b[0;34m.\u001b[0m\u001b[0misnumeric\u001b[0m\u001b[0;34m(\u001b[0m\u001b[0;34m)\u001b[0m\u001b[0;34m)\u001b[0m\u001b[0;34m\u001b[0m\u001b[0;34m\u001b[0m\u001b[0m\n\u001b[0m",
            "\u001b[0;31mAttributeError\u001b[0m: 'list' object has no attribute 'isnumeric'"
          ]
        }
      ]
    },
    {
      "cell_type": "code",
      "source": [
        "#1. Ze stringu `\"matous.holinka@gmail.com\"`, získej jenom `\"matous.holinka\"`,\n",
        "#2. nahraď ve `\"matous.holinka\"` znak `\".\"` pomocí mezery `\" \"`,\n",
        "#3. vypiš jméno *title-case*, tedy `\"Matous Holinka\"`.\n",
        "\n",
        "heslo = \"matous.holinka@gmail.com\"\n",
        "\n",
        "heslo2 = (heslo.split(\"@\")[0])\n",
        "print(heslo2)\n",
        "heslo3 = (heslo2.replace(\".\", \" \"))\n",
        "print(heslo3)\n",
        "heslo4 = (heslo3.title())\n",
        "print(heslo4)\n",
        "\n",
        "heslo5 = (heslo.split(\"@\")[0].replace(\".\", \" \").title())\n",
        "print(heslo5)\n",
        "print()\n",
        "print(heslo.split(\"@\")[0].replace(\".\", \" \").title())"
      ],
      "metadata": {
        "colab": {
          "base_uri": "https://localhost:8080/"
        },
        "id": "Y1DS7BcRJuEK",
        "outputId": "b6f3ae89-56e8-4d3e-f909-c1d93e72ef93"
      },
      "execution_count": 20,
      "outputs": [
        {
          "output_type": "stream",
          "name": "stdout",
          "text": [
            "matous.holinka\n",
            "matous holinka\n",
            "Matous Holinka\n",
            "Matous Holinka\n",
            "\n",
            "Matous Holinka\n"
          ]
        }
      ]
    },
    {
      "cell_type": "code",
      "source": [
        "mail = \"matous.holinka@gmail.com\"\n",
        "\n",
        "login = (heslo.split(\"@\")[0])\n",
        "print(login)\n",
        "mala_pismena = (login.replace(\".\", \" \"))\n",
        "print(mala_pismena)\n",
        "velka_pismena = (mala_pismena.title())\n",
        "print(heslo4)\n",
        "\n",
        "ukol = (mail.split(\"@\")[0].replace(\".\", \" \").title())\n",
        "print(ukol)"
      ],
      "metadata": {
        "colab": {
          "base_uri": "https://localhost:8080/"
        },
        "id": "XlOjGnfXPL5c",
        "outputId": "d62ab94d-d77d-45f2-f8ca-eb9216bcfcee"
      },
      "execution_count": 21,
      "outputs": [
        {
          "output_type": "stream",
          "name": "stdout",
          "text": [
            "matous.holinka\n",
            "matous holinka\n",
            "Matous Holinka\n",
            "Matous Holinka\n"
          ]
        }
      ]
    },
    {
      "cell_type": "code",
      "source": [
        "zaznam_delene = [\"2021-01-01 11:11:11:1111 - něco se děje\",\n",
        " \"2021-01-01 11:12:11:1111 - nic to nebylo\",\n",
        " \"2021-01-01 11:13:11:1111 - a přece něco!\"]\n",
        "\n",
        "zaznam_delene.insert(0, \"2021-01-01 11:10:11:1111 - BANG\" )\n",
        "\n",
        "\n",
        "print(zaznam_delene)"
      ],
      "metadata": {
        "colab": {
          "base_uri": "https://localhost:8080/"
        },
        "id": "ILFarNo0RnBh",
        "outputId": "ef18b789-290d-49a9-ec82-7fe4d591b547"
      },
      "execution_count": 10,
      "outputs": [
        {
          "output_type": "stream",
          "name": "stdout",
          "text": [
            "['2021-01-01 11:10:11:1111 - BANG', '2021-01-01 11:11:11:1111 - něco se děje', '2021-01-01 11:12:11:1111 - nic to nebylo', '2021-01-01 11:13:11:1111 - a přece něco!']\n"
          ]
        }
      ]
    },
    {
      "cell_type": "code",
      "source": [
        "slovnik_muj = {\"klic\": \"hodnota\", \"klic2\": \"hodnota2\"}\n",
        "print(slovnik_muj.get(\"ahoj\", \"Tento klíč neexistuje!\"))"
      ],
      "metadata": {
        "colab": {
          "base_uri": "https://localhost:8080/"
        },
        "id": "B6MUWPuXiX_1",
        "outputId": "dc102eac-4131-488d-ce3b-d4c852daec27"
      },
      "execution_count": 3,
      "outputs": [
        {
          "output_type": "stream",
          "name": "stdout",
          "text": [
            "Tento klíč neexistuje!\n"
          ]
        }
      ]
    },
    {
      "cell_type": "code",
      "source": [
        "#1. Vytvoř slovník `student = {\"jméno\": \"Jan\", \"příjmení\": \"Novák\", \"věk\": 20}`,\n",
        "#2. přidej do slovníku klíč `obor` s hodnotou `\"Informatika\"`,\n",
        "#3. přidej do slovníku klíč `\"kontakt\"` s hodnotami: `{\"email\": \"jan.novak@gmail.com\", \"mobil\": \"+420777666555\"}`,\n",
        "#4. získej ze slovníku `student` klíč `pohlavi`, pokud je součástí slovníku, jinak nesmí skončít výjimkou,\n",
        "#5. získej ze slovníku `kontakt` klíč `mobil`, pokud je součástí slovníku, jinak nesmí skončít výjimkou,\n",
        "#6. vypiš všechny klíče ze slovníku `student`,\n",
        "#7. zjisti, kolik klíčů a hodnot má slovník `student`.\n",
        "\n",
        "#1\n",
        "student = {\"jméno\": \"Jan\", \"příjmení\": \"Novák\", \"věk\": 20}\n",
        "\n",
        "#2\n",
        "student[\"obor\"] = \"Informatika\"\n",
        "print(student)\n",
        "\n",
        "#3\n",
        "student[\"kontakt\"] = {\"email\": \"jan.novak@gmail.com\", \"mobil\": \"+420777666555\"}\n",
        "print(student)\n",
        "\n",
        "#4\n",
        "print(student.get(\"pohlavi\", \"Tento klíč neexistuje!\"))\n",
        "\n",
        "#5\n",
        "print(student.get(\"kontakt\").get(\"mobil\", \"Tento klíč neexistuje!\"))\n",
        "\n",
        "#6\n",
        "print(student.keys())\n",
        "\n",
        "#7\n",
        "print(len(student))\n",
        "\n",
        "\n",
        "from pprint import pprint\n",
        "pprint(student)\n",
        "\n"
      ],
      "metadata": {
        "colab": {
          "base_uri": "https://localhost:8080/"
        },
        "id": "hcHWUI1ZkmlA",
        "outputId": "9d86b9f1-747b-4ab8-fcb1-6f9cf26b25d2"
      },
      "execution_count": 1,
      "outputs": [
        {
          "output_type": "stream",
          "name": "stdout",
          "text": [
            "{'jméno': 'Jan', 'příjmení': 'Novák', 'věk': 20, 'obor': 'Informatika'}\n",
            "{'jméno': 'Jan', 'příjmení': 'Novák', 'věk': 20, 'obor': 'Informatika', 'kontakt': {'email': 'jan.novak@gmail.com', 'mobil': '+420777666555'}}\n",
            "Tento klíč neexistuje!\n",
            "+420777666555\n",
            "dict_keys(['jméno', 'příjmení', 'věk', 'obor', 'kontakt'])\n",
            "5\n",
            "{'jméno': 'Jan',\n",
            " 'kontakt': {'email': 'jan.novak@gmail.com', 'mobil': '+420777666555'},\n",
            " 'obor': 'Informatika',\n",
            " 'příjmení': 'Novák',\n",
            " 'věk': 20}\n"
          ]
        }
      ]
    },
    {
      "cell_type": "code",
      "source": [
        "#1. Vytvoř nové sety z listů `skupina_1` a `skupina_2`,\n",
        "#2. zjisti, jestli se někdo z uchazečů nevyskytuje v obou skupinách, pokud ano, vypiš `\"máme uchazeče ve dvou skupinách\"`,\n",
        "#3. jinak vypiš oznámení: `\"žádný uživatel není v obou skupinách\"`,\n",
        "#4. pokud někdo takový existuje, odstraň jej z jedné ze skupin,\n",
        "#5. přidej do druhého setu email `\"m.holinka@gmail.com\"`,\n",
        "#6. sjednoť oba sety a výsledek ulož jako *frozenset*.\n",
        "\n",
        "skupina_1 = [\n",
        "    'h.vybíralová@firma.cz', 'w.štrumlová@firma.cz', 'm.vybíralová@firma.cz',\n",
        "    's.bechyňka@firma.cz', 'z.urbánková@firma.cz', 'l.riečan@firma.cz',\n",
        "    'v.koudelová@firma.cz', 'f.vorlová@firma.cz', 'i.seleš@firma.cz'\n",
        "]\n",
        "\n",
        "skupina_2 = [\n",
        "    'j.šmíd@firma.cz', 'j.procházková@firma.cz', 'l.riečan@firma.cz', 'd.hlavatá@firma.cz',\n",
        "    'm.železný@firma.cz', 'p.niklesová@firma.cz', 'b.skok@firma.cz',\n",
        "]\n",
        "\n",
        "\n",
        "from pprint import pprint\n",
        "\n",
        "\n",
        "#1\n",
        "set_1 = set(skupina_1)\n",
        "set_2 = set(skupina_2)\n",
        "print(type(set_1))\n",
        "print(type(set_2))\n",
        "\n",
        "#2, 3\n",
        "if set_1.isdisjoint(set_2) == 0:\n",
        "    print(\"máme uchazeče ve dvou skupinách\")\n",
        "else:\n",
        "    print(\"žádný uživatel není v obou skupinách\")\n",
        "print()\n",
        "\n",
        "#4\n",
        "print(set_1.intersection(set_2))\n",
        "set_1.remove('l.riečan@firma.cz')\n",
        "print()\n",
        "pprint(set_1)\n",
        "print()\n",
        "\n",
        "#5\n",
        "set_2.add(\"m.holinka@gmail.com\")\n",
        "\n",
        "#6\n",
        "pprint(set_2)\n",
        "print()\n",
        "u_set = frozenset(set_1.union(set_2))\n",
        "print(type(u_set))\n",
        "pprint(u_set)\n",
        "\n"
      ],
      "metadata": {
        "colab": {
          "base_uri": "https://localhost:8080/"
        },
        "id": "bC1IIQRufvmu",
        "outputId": "e61c69cc-44d8-4eb5-e91c-c1f59768e3b1"
      },
      "execution_count": 29,
      "outputs": [
        {
          "output_type": "stream",
          "name": "stdout",
          "text": [
            "<class 'set'>\n",
            "<class 'set'>\n",
            "máme uchazeče ve dvou skupinách\n",
            "\n",
            "{'l.riečan@firma.cz'}\n",
            "\n",
            "{'f.vorlová@firma.cz',\n",
            " 'h.vybíralová@firma.cz',\n",
            " 'i.seleš@firma.cz',\n",
            " 'm.vybíralová@firma.cz',\n",
            " 's.bechyňka@firma.cz',\n",
            " 'v.koudelová@firma.cz',\n",
            " 'w.štrumlová@firma.cz',\n",
            " 'z.urbánková@firma.cz'}\n",
            "\n",
            "{'b.skok@firma.cz',\n",
            " 'd.hlavatá@firma.cz',\n",
            " 'j.procházková@firma.cz',\n",
            " 'j.šmíd@firma.cz',\n",
            " 'l.riečan@firma.cz',\n",
            " 'm.holinka@gmail.com',\n",
            " 'm.železný@firma.cz',\n",
            " 'p.niklesová@firma.cz'}\n",
            "\n",
            "<class 'frozenset'>\n",
            "frozenset({'b.skok@firma.cz',\n",
            "           'd.hlavatá@firma.cz',\n",
            "           'f.vorlová@firma.cz',\n",
            "           'h.vybíralová@firma.cz',\n",
            "           'i.seleš@firma.cz',\n",
            "           'j.procházková@firma.cz',\n",
            "           'j.šmíd@firma.cz',\n",
            "           'l.riečan@firma.cz',\n",
            "           'm.holinka@gmail.com',\n",
            "           'm.vybíralová@firma.cz',\n",
            "           'm.železný@firma.cz',\n",
            "           'p.niklesová@firma.cz',\n",
            "           's.bechyňka@firma.cz',\n",
            "           'v.koudelová@firma.cz',\n",
            "           'w.štrumlová@firma.cz',\n",
            "           'z.urbánková@firma.cz'})\n"
          ]
        }
      ]
    },
    {
      "cell_type": "code",
      "source": [
        "sluzby = (\"dostupné filmy\", \"detaily filmu\", \"seznam režisérů\")\n",
        "oddelovac = \"=\" * 62\n",
        "\n",
        "film_1 = {\n",
        "    \"jmeno\": \"Shawshank Redemption\",\n",
        "    \"rating\": \"93/100\",\n",
        "    \"rok\": 1994,\n",
        "    \"reziser\": \"Frank Darabont\",\n",
        "    \"stopaz\": 144\n",
        "}\n",
        "\n",
        "film_2 = {\n",
        "    \"jmeno\": \"The Godfather\",\n",
        "    \"rating\": \"92/100\",\n",
        "    \"rok\": 1972,\n",
        "    \"reziser\": \"Francis Ford Coppola\",\n",
        "    \"stopaz\": 175\n",
        "}\n",
        "\n",
        "film_3 = {\n",
        "    \"jmeno\": \"The Dark Knight\",\n",
        "    \"rating\": \"90/100\",\n",
        "    \"rok\": 2008,\n",
        "    \"reziser\": \"Christopher Nolan\",\n",
        "    \"stopaz\": 152\n",
        "}\n",
        "\n",
        "# sjednoť předchozí 3 slovníky do jednoho slovníku 'filmy'\n",
        "# .. klíčem bude jméno filmu a samotný slovník následuje\n",
        "# .. jako hodnota.\n",
        "\n",
        "#výpis pro uživatele viz zadání:\n",
        "#zobraz mi dostupné filmy dle zadání:\n",
        "#zobraz detaily o filmu dle zadání:\n",
        "#zobraz seznam režisérů:\n",
        "\n",
        "\n",
        "filmy = dict()\n",
        "\n",
        "#jednotlivé slovníky sjednotím do slovníku filmy, klíčem budou jména filmů\n",
        "filmy = {\n",
        "    film_1[\"jmeno\"]: film_1,\n",
        "    film_2[\"jmeno\"]: film_2,\n",
        "    film_3[\"jmeno\"]: film_3\n",
        "}\n",
        "\n",
        "from pprint import pprint\n",
        "pprint(filmy)\n",
        "print()\n",
        "print()\n",
        "\n",
        "\n",
        "#1 VÍTEJTE...\n",
        "#vypíšu pozdrav, změním na velká písmena a vycentruji\n",
        "pozdrav = (\"Vítej v našem filmovém slovníku!\".upper().center(62))\n",
        "#vypíšu výstup - nabídku - dle grafického zadání, použiji oddělovač ze zadání\n",
        "print(pozdrav)\n",
        "print(oddelovac)\n",
        "print((sluzby[0] + \" | \" + sluzby[1] + \" | doporuč film\").center(62))\n",
        "print()\n",
        "print()\n",
        "\n",
        "#2 DOSTUPNÉ FILMY...\n",
        "#vypíšu výstup - dostupné filmy - dle grafického zadání\n",
        "\n",
        "print((sluzby[0].capitalize() + \":\").center(62))\n",
        "print(oddelovac)\n",
        "print(*filmy.keys(), sep = \", \")  # * tzv rozbalí klíče do jednotlivých argumentů\n",
        "print(oddelovac)\n",
        "\n",
        "print()\n",
        "print()\n",
        "\n",
        "#3 ZOBRAZ DETAILY O FILMU...\n",
        "# vyber z dostupné služby v nabídce a zobraz jména filmů\n",
        "print(str(sluzby[1].capitalize() + \":\"))\n",
        "print(oddelovac)\n",
        "print(filmy['The Dark Knight'])\n",
        "print(oddelovac)\n",
        "print()\n",
        "\n",
        "\n",
        "#4 ZOBRAZ SEZNAM REŽISÉRU...\n",
        "print(\"Všichni režiséři:\")\n",
        "print(oddelovac)\n",
        "reziseri = set()\n",
        "reziseri.add(film_1[\"reziser\"])\n",
        "reziseri.add(film_2[\"reziser\"])\n",
        "reziseri.add(film_3[\"reziser\"])\n",
        "\n",
        "print(reziseri)\n",
        "print(oddelovac)\n",
        "print()\n",
        "\n",
        "#reziseri2 = set()\n",
        "#for nazev_filmu in filmy.keys():\n",
        "#    reziseri2.add(filmy[nazev_filmu][\"reziser\"])\n",
        "#print(reziseri2)\n",
        "#print()\n",
        "\n"
      ],
      "metadata": {
        "colab": {
          "base_uri": "https://localhost:8080/"
        },
        "id": "ubXbZlzU6pOQ",
        "outputId": "833ef80c-dff3-4d94-a58f-22cf802131a0"
      },
      "execution_count": 99,
      "outputs": [
        {
          "output_type": "stream",
          "name": "stdout",
          "text": [
            "{'Shawshank Redemption': {'jmeno': 'Shawshank Redemption',\n",
            "                          'rating': '93/100',\n",
            "                          'reziser': 'Frank Darabont',\n",
            "                          'rok': 1994,\n",
            "                          'stopaz': 144},\n",
            " 'The Dark Knight': {'jmeno': 'The Dark Knight',\n",
            "                     'rating': '90/100',\n",
            "                     'reziser': 'Christopher Nolan',\n",
            "                     'rok': 2008,\n",
            "                     'stopaz': 152},\n",
            " 'The Godfather': {'jmeno': 'The Godfather',\n",
            "                   'rating': '92/100',\n",
            "                   'reziser': 'Francis Ford Coppola',\n",
            "                   'rok': 1972,\n",
            "                   'stopaz': 175}}\n",
            "\n",
            "\n",
            "               VÍTEJ V NAŠEM FILMOVÉM SLOVNÍKU!               \n",
            "==============================================================\n",
            "        dostupné filmy | detaily filmu | doporuč film         \n",
            "\n",
            "\n",
            "                       Dostupné filmy:                        \n",
            "==============================================================\n",
            "Shawshank Redemption, The Godfather, The Dark Knight\n",
            "==============================================================\n",
            "\n",
            "\n",
            "Detaily filmu:\n",
            "==============================================================\n",
            "{'jmeno': 'The Dark Knight', 'rating': '90/100', 'rok': 2008, 'reziser': 'Christopher Nolan', 'stopaz': 152}\n",
            "==============================================================\n",
            "\n",
            "Všichni režiséři:\n",
            "==============================================================\n",
            "{'Christopher Nolan', 'Frank Darabont', 'Francis Ford Coppola'}\n",
            "==============================================================\n",
            "\n"
          ]
        }
      ]
    },
    {
      "cell_type": "code",
      "source": [
        "iterator = iter([\"a\", \"b\", \"c\", \"d\"])\n",
        "print(iterator)\n",
        "print(next(iterator))\n",
        "print(next(iterator))"
      ],
      "metadata": {
        "colab": {
          "base_uri": "https://localhost:8080/"
        },
        "id": "UpWlLQjzwKAO",
        "outputId": "3708abf2-56bf-47a8-e470-f0611fd6c5e6"
      },
      "execution_count": 8,
      "outputs": [
        {
          "output_type": "stream",
          "name": "stdout",
          "text": [
            "<list_iterator object at 0x7eae0845a8f0>\n",
            "a\n",
            "b\n"
          ]
        }
      ]
    },
    {
      "cell_type": "code",
      "source": [
        "slovnik = {\n",
        "    \"jmeno\": \"Matous\",\n",
        "    \"prijmeni\": \"Holinka\",\n",
        "    \"email\": \"matous@holinka.com\"\n",
        "}\n",
        "\n",
        "for h in slovnik.values():\n",
        "    print(h, \"-------\", h)\n",
        "#"
      ],
      "metadata": {
        "colab": {
          "base_uri": "https://localhost:8080/"
        },
        "id": "7mf7kLoC-r4O",
        "outputId": "9d9e4290-d5c5-42b1-b69c-b1126c49f3c8"
      },
      "execution_count": 11,
      "outputs": [
        {
          "output_type": "stream",
          "name": "stdout",
          "text": [
            "Matous ------- Matous\n",
            "Holinka ------- Holinka\n",
            "matous@holinka.com ------- matous@holinka.com\n"
          ]
        }
      ]
    },
    {
      "cell_type": "code",
      "source": [
        "slovnik = {\n",
        "    \"jmeno\": \"Matous\",\n",
        "    \"prijmeni\": \"Holinka\",\n",
        "    \"email\": \"matous@holinka.com\"\n",
        "}\n",
        "\n",
        "for (klic, hodnota) in slovnik.items():\n",
        "    print(klic, \":\", hodnota)"
      ],
      "metadata": {
        "colab": {
          "base_uri": "https://localhost:8080/"
        },
        "id": "jbB-XWoV_a1N",
        "outputId": "45ab277a-7985-4f95-8876-dba1e9c9a082"
      },
      "execution_count": 15,
      "outputs": [
        {
          "output_type": "stream",
          "name": "stdout",
          "text": [
            "jmeno : Matous\n",
            "prijmeni : Holinka\n",
            "email : matous@holinka.com\n"
          ]
        }
      ]
    },
    {
      "cell_type": "code",
      "source": [
        "balik = [\"A\", \"B\", \"C\", \"D\", \"E\"]\n",
        "\n",
        "for pismeno in balik:\n",
        "    if pismeno == \"C\":\n",
        "      print(\"Máme hledané písmeno C. Přeskakuji další.\")\n",
        "      break\n",
        "    print(pismeno)"
      ],
      "metadata": {
        "colab": {
          "base_uri": "https://localhost:8080/"
        },
        "id": "T9B8SIk_K3oU",
        "outputId": "9be92ab0-2c43-46ad-c441-d0bffb4dc84f"
      },
      "execution_count": 22,
      "outputs": [
        {
          "output_type": "stream",
          "name": "stdout",
          "text": [
            "A\n",
            "B\n",
            "Máme hledané písmeno C. Přeskakuji další.\n"
          ]
        }
      ]
    }
  ]
}